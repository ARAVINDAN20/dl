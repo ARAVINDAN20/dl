{
  "nbformat": 4,
  "nbformat_minor": 0,
  "metadata": {
    "colab": {
      "provenance": []
    },
    "kernelspec": {
      "name": "python3",
      "display_name": "Python 3"
    },
    "language_info": {
      "name": "python"
    }
  },
  "cells": [
    {
      "cell_type": "markdown",
      "source": [
        "**Caesar Cipher**"
      ],
      "metadata": {
        "id": "ZwXcWe1dJE3m"
      }
    },
    {
      "cell_type": "code",
      "execution_count": null,
      "metadata": {
        "colab": {
          "base_uri": "https://localhost:8080/"
        },
        "id": "_RETOLQwI-O1",
        "outputId": "474d2bcd-f0c3-4957-deeb-99b92e51ce88"
      },
      "outputs": [
        {
          "output_type": "stream",
          "name": "stdout",
          "text": [
            "Encrypted: uhm2r\n",
            "Decrypted: rej2o\n"
          ]
        }
      ],
      "source": [
        "# Caesar Cipher - Simple Encryption and Decryption\n",
        "\n",
        "# Function to encrypt the text using Caesar Cipher\n",
        "def encrypt(text, shift):\n",
        "    result = ''  # Empty string to store the result\n",
        "    for char in text:\n",
        "        if char.isalpha():  # Check if the character is a letter\n",
        "            base = ord('A') if char.isupper() else ord('a')  # Set base for upper/lowercase\n",
        "            # Shift the character and wrap around using modulo 26\n",
        "            result += chr((ord(char) - base + shift) % 26 + base)\n",
        "        else:\n",
        "            result += char  # Keep non-alphabet characters unchanged\n",
        "    return result  # Return the encrypted string\n",
        "\n",
        "# Function to decrypt the text (just reverse the shift)\n",
        "def decrypt(text, shift):\n",
        "    return encrypt(text, -shift)  # Decryption is encryption with negative shift\n",
        "\n",
        "# Example usage\n",
        "msg = \"HELLO\"    # Message to encrypt\n",
        "key = 3          # Shift value\n",
        "\n",
        "enc = encrypt(msg, key)  # Encrypt the message\n",
        "dec = decrypt(enc, key)  # Decrypt the message\n",
        "\n",
        "print(\"Encrypted:\", enc)  # Output: KHOOR\n",
        "print(\"Decrypted:\", dec)  # Output: HELLO\n"
      ]
    },
    {
      "cell_type": "markdown",
      "source": [
        "**Simple Transposition Cipher (Basic)**"
      ],
      "metadata": {
        "id": "UVA2M548LQv8"
      }
    },
    {
      "cell_type": "code",
      "source": [
        "# Simple Transposition Cipher (fixed key)\n",
        "# Encrypt by writing in rows and reading in columns\n",
        "def encrypt(text, key):\n",
        "    result = [''] * key  # Create columns\n",
        "    for i in range(len(text)):\n",
        "        col = i % key  # Column index\n",
        "        result[col] += text[i]  # Add character to column\n",
        "    return ''.join(result)\n",
        "\n",
        "# Decrypt by reversing the process\n",
        "def decrypt(cipher, key):\n",
        "    num_rows = len(cipher) // key\n",
        "    result = [''] * num_rows\n",
        "    index = 0\n",
        "    for col in range(key):\n",
        "        for row in range(num_rows):\n",
        "            if index < len(cipher):\n",
        "                result[row] += cipher[index]\n",
        "                index += 1\n",
        "    return ''.join(result)\n",
        "\n",
        "# Example\n",
        "msg = \"HELLOWORLD\"\n",
        "key = 4\n",
        "\n",
        "enc = encrypt(msg, key)\n",
        "dec = decrypt(enc, key)\n",
        "\n",
        "print(\"Encrypted:\", enc)\n",
        "print(\"Decrypted:\", dec)\n"
      ],
      "metadata": {
        "colab": {
          "base_uri": "https://localhost:8080/"
        },
        "id": "ZaDYJ7j_JKYF",
        "outputId": "83972fdc-280c-4840-ef15-7cb99102a9e4"
      },
      "execution_count": null,
      "outputs": [
        {
          "output_type": "stream",
          "name": "stdout",
          "text": [
            "Encrypted: HOLEWDLOLR\n",
            "Decrypted: HLWLOEDO\n"
          ]
        }
      ]
    },
    {
      "cell_type": "markdown",
      "source": [
        "**Simple Transposition Cipher (standard)**"
      ],
      "metadata": {
        "id": "p3_r0rDbLuU_"
      }
    },
    {
      "cell_type": "code",
      "source": [
        "# Transposition Cipher - Simple implementation\n",
        "\n",
        "# Function to encrypt using transposition cipher\n",
        "def encrypt(text, key):\n",
        "    cipher = [''] * key  # Create a list with empty strings for each column\n",
        "    for i in range(len(text)):\n",
        "        col = i % key  # Find the column to put the character in\n",
        "        cipher[col] += text[i]  # Add character to the correct column\n",
        "    return ''.join(cipher)  # Join all columns to get the encrypted text\n",
        "\n",
        "# Function to decrypt the transposition cipher\n",
        "def decrypt(cipher, key):\n",
        "    num_rows = len(cipher) // key + (len(cipher) % key != 0)  # Number of rows\n",
        "    num_shaded = (num_rows * key) - len(cipher)  # Empty boxes in the grid\n",
        "\n",
        "    plaintext = [''] * num_rows  # Prepare empty rows\n",
        "    col = 0\n",
        "    row = 0\n",
        "    for char in cipher:\n",
        "        plaintext[row] += char  # Place character in correct row\n",
        "        row += 1\n",
        "        if (row == num_rows) or (row == num_rows - 1 and col >= key - num_shaded):\n",
        "            row = 0\n",
        "            col += 1\n",
        "    return ''.join(plaintext)  # Join all rows to get decrypted text\n",
        "\n",
        "# Example usage\n",
        "message = \"HELLO WORLD\"\n",
        "key = 4\n",
        "\n",
        "encrypted = encrypt(message.replace(\" \", \"\"), key)  # Remove spaces for simplicity\n",
        "decrypted = decrypt(encrypted, key)\n",
        "\n",
        "print(\"Encrypted:\", encrypted)\n",
        "print(\"Decrypted:\", decrypted)\n"
      ],
      "metadata": {
        "id": "pXYYJvqCLMs7"
      },
      "execution_count": null,
      "outputs": []
    },
    {
      "cell_type": "markdown",
      "source": [
        "**AES Cipher (Advanced Encryption Standard)**"
      ],
      "metadata": {
        "id": "77xiMxF7R_em"
      }
    },
    {
      "cell_type": "code",
      "source": [
        "!pip install PyCryptodome"
      ],
      "metadata": {
        "colab": {
          "base_uri": "https://localhost:8080/"
        },
        "id": "x-z7fEDASG1l",
        "outputId": "b8a281ff-de67-46aa-b17a-65e4825d3b6a"
      },
      "execution_count": null,
      "outputs": [
        {
          "output_type": "stream",
          "name": "stdout",
          "text": [
            "Collecting PyCryptodome\n",
            "  Downloading pycryptodome-3.22.0-cp37-abi3-manylinux_2_17_x86_64.manylinux2014_x86_64.whl.metadata (3.4 kB)\n",
            "Downloading pycryptodome-3.22.0-cp37-abi3-manylinux_2_17_x86_64.manylinux2014_x86_64.whl (2.3 MB)\n",
            "\u001b[?25l   \u001b[90m━━━━━━━━━━━━━━━━━━━━━━━━━━━━━━━━━━━━━━━━\u001b[0m \u001b[32m0.0/2.3 MB\u001b[0m \u001b[31m?\u001b[0m eta \u001b[36m-:--:--\u001b[0m\r\u001b[2K   \u001b[91m━\u001b[0m\u001b[90m╺\u001b[0m\u001b[90m━━━━━━━━━━━━━━━━━━━━━━━━━━━━━━━━━━━━━━\u001b[0m \u001b[32m0.1/2.3 MB\u001b[0m \u001b[31m3.1 MB/s\u001b[0m eta \u001b[36m0:00:01\u001b[0m\r\u001b[2K   \u001b[91m━━━━━━━━━━\u001b[0m\u001b[91m╸\u001b[0m\u001b[90m━━━━━━━━━━━━━━━━━━━━━━━━━━━━━\u001b[0m \u001b[32m0.6/2.3 MB\u001b[0m \u001b[31m8.6 MB/s\u001b[0m eta \u001b[36m0:00:01\u001b[0m\r\u001b[2K   \u001b[91m━━━━━━━━━━━━━━━━━━━━━━━━━━━━━━━━━━━━━━━\u001b[0m\u001b[91m╸\u001b[0m \u001b[32m2.3/2.3 MB\u001b[0m \u001b[31m23.2 MB/s\u001b[0m eta \u001b[36m0:00:01\u001b[0m\r\u001b[2K   \u001b[90m━━━━━━━━━━━━━━━━━━━━━━━━━━━━━━━━━━━━━━━━\u001b[0m \u001b[32m2.3/2.3 MB\u001b[0m \u001b[31m18.5 MB/s\u001b[0m eta \u001b[36m0:00:00\u001b[0m\n",
            "\u001b[?25hInstalling collected packages: PyCryptodome\n",
            "Successfully installed PyCryptodome-3.22.0\n"
          ]
        }
      ]
    },
    {
      "cell_type": "code",
      "source": [
        "from Crypto.Cipher import AES\n",
        "from Crypto.Util.Padding import pad, unpad\n",
        "from Crypto.Random import get_random_bytes\n",
        "\n",
        "# AES encryption and decryption\n",
        "def aes_encrypt_decrypt(input_text, key, mode='encrypt'):\n",
        "    cipher = AES.new(key, AES.MODE_CBC)  # AES CBC mode\n",
        "    if mode == 'encrypt':\n",
        "        ciphertext = cipher.encrypt(pad(input_text.encode(), AES.block_size))  # Encrypt\n",
        "        return cipher.iv + ciphertext  # Return IV + encrypted text\n",
        "    elif mode == 'decrypt':\n",
        "        iv = input_text[:16]  # Extract IV\n",
        "        ciphertext = input_text[16:]  # Extract ciphertext\n",
        "        cipher = AES.new(key, AES.MODE_CBC, iv)\n",
        "        decrypted_text = unpad(cipher.decrypt(ciphertext), AES.block_size)  # Decrypt\n",
        "        return decrypted_text.decode()\n",
        "\n",
        "# Example usage\n",
        "key = get_random_bytes(16)  # 128-bit key\n",
        "message = \"Hello, AES!\"\n",
        "\n",
        "# Encrypt\n",
        "encrypted_msg = aes_encrypt_decrypt(message, key, mode='encrypt')\n",
        "print(\"Encrypted (AES):\", encrypted_msg)\n",
        "\n",
        "# Decrypt\n",
        "decrypted_msg = aes_encrypt_decrypt(encrypted_msg, key, mode='decrypt')\n",
        "print(\"Decrypted (AES):\", decrypted_msg)\n"
      ],
      "metadata": {
        "colab": {
          "base_uri": "https://localhost:8080/"
        },
        "id": "sOIM-gMGSAgm",
        "outputId": "520eb2eb-eb67-49df-97aa-4563509d63c6"
      },
      "execution_count": null,
      "outputs": [
        {
          "output_type": "stream",
          "name": "stdout",
          "text": [
            "Encrypted (AES): b'\\xa5\\x08X\\x13jR<\\x0c\\xa6\\x01\\xbd4o>\\x94\\x81S\\xf5\\x95\\x1b\\x82\\x03\\xb2\\x88~\\xc1\\x9aEa\\xaba\\xa4'\n",
            "Decrypted (AES): Hello, AES!\n"
          ]
        }
      ]
    },
    {
      "cell_type": "code",
      "source": [
        "# Small fake S-box for 4-bit nibbles\n",
        "SBOX = [0x6, 0x4, 0xC, 0x5, 0x0, 0x7, 0x2, 0xE,\n",
        "        0x1, 0xF, 0x3, 0xD, 0xA, 0x9, 0xB, 0x8]\n",
        "\n",
        "# Inverse S-box\n",
        "INV_SBOX = [SBOX.index(i) for i in range(16)]\n",
        "\n",
        "# Substitution\n",
        "def substitute(byte):\n",
        "    return (SBOX[byte >> 4] << 4) | SBOX[byte & 0xF]\n",
        "\n",
        "# Inverse substitution\n",
        "def inv_substitute(byte):\n",
        "    return (INV_SBOX[byte >> 4] << 4) | INV_SBOX[byte & 0xF]\n",
        "\n",
        "# Encrypt: XOR → SBOX → XOR\n",
        "def encrypt(plain, key1, key2):\n",
        "    return substitute(plain ^ key1) ^ key2\n",
        "\n",
        "# Decrypt: XOR → inverse SBOX → XOR\n",
        "def decrypt(cipher, key1, key2):\n",
        "    return inv_substitute(cipher ^ key2) ^ key1\n",
        "\n",
        "# Example usage\n",
        "plain = 0b10101010  # 170\n",
        "key1 =  0b11110000  # 240\n",
        "key2 =  0b00001111  # 15\n",
        "\n",
        "cipher = encrypt(plain, key1, key2)\n",
        "decrypted = decrypt(cipher, key1, key2)\n",
        "\n",
        "print(f\"Cipher:   {bin(cipher)}\")\n",
        "print(f\"Decrypted:{bin(decrypted)}\")\n"
      ],
      "metadata": {
        "id": "eAE9lqT6EZqp",
        "colab": {
          "base_uri": "https://localhost:8080/"
        },
        "outputId": "17d260a5-0767-4d22-9de6-e5bb1cdfcb88"
      },
      "execution_count": null,
      "outputs": [
        {
          "output_type": "stream",
          "name": "stdout",
          "text": [
            "Cipher:   0b1111100\n",
            "Decrypted:0b10101010\n"
          ]
        }
      ]
    },
    {
      "cell_type": "markdown",
      "source": [
        "**DES Cipher (Data Encryption Standard)**"
      ],
      "metadata": {
        "id": "dzCZWX8qSBkd"
      }
    },
    {
      "cell_type": "code",
      "source": [
        "from Crypto.Cipher import DES\n",
        "from Crypto.Util.Padding import pad, unpad\n",
        "from Crypto.Random import get_random_bytes\n",
        "\n",
        "# DES encryption and decryption\n",
        "def des_encrypt_decrypt(input_text, key, mode='encrypt'):\n",
        "    cipher = DES.new(key, DES.MODE_CBC)  # DES CBC mode\n",
        "    if mode == 'encrypt':\n",
        "        ciphertext = cipher.encrypt(pad(input_text.encode(), DES.block_size))  # Encrypt\n",
        "        return cipher.iv + ciphertext  # Return IV + encrypted text\n",
        "    elif mode == 'decrypt':\n",
        "        iv = input_text[:8]  # Extract IV (DES uses 8-byte IV)\n",
        "        ciphertext = input_text[8:]  # Extract ciphertext\n",
        "        cipher = DES.new(key, DES.MODE_CBC, iv)\n",
        "        decrypted_text = unpad(cipher.decrypt(ciphertext), DES.block_size)  # Decrypt\n",
        "        return decrypted_text.decode()\n",
        "\n",
        "# Example usage\n",
        "key = get_random_bytes(8)  # 64-bit key (8 bytes)\n",
        "message = \"Hello, DES!\"\n",
        "\n",
        "# Encrypt\n",
        "encrypted_msg = des_encrypt_decrypt(message, key, mode='encrypt')\n",
        "print(\"Encrypted (DES):\", encrypted_msg)\n",
        "\n",
        "# Decrypt\n",
        "decrypted_msg = des_encrypt_decrypt(encrypted_msg, key, mode='decrypt')\n",
        "print(\"Decrypted (DES):\", decrypted_msg)\n"
      ],
      "metadata": {
        "colab": {
          "base_uri": "https://localhost:8080/"
        },
        "id": "PH7iNHMaSD9F",
        "outputId": "334ae07b-1cd6-41bd-cc46-c3963503f423"
      },
      "execution_count": null,
      "outputs": [
        {
          "output_type": "stream",
          "name": "stdout",
          "text": [
            "Encrypted (DES): b\"\\xa1\\x05\\xdcWQ\\x1a\\xe8\\xde\\x86\\xd4\\x0cc\\xe7l\\xeb\\xa9g'\\x01\\xfaS\\xb2\\xc84\"\n",
            "Decrypted (DES): Hello, DES!\n"
          ]
        }
      ]
    },
    {
      "cell_type": "code",
      "source": [
        "def xor (a,b):\n",
        "    return [i^j for i,j in zip(a,b)]\n",
        "\n",
        "def permute(bits,order):\n",
        "    return [bits[i-1] for i in order]\n",
        "\n",
        "def en_de (bits,key1,key2,encrypt=True):\n",
        "    bits = permute(bits,[2,6,3,1,4,8,5,7])\n",
        "    bits = xor(bits,key1 if encrypt else key2)\n",
        "    bits = bits[4:] + bits[:4]\n",
        "    bits = xor(bits,key2 if encrypt else key1)\n",
        "    return permute(bits,[4,1,3,5,7,2,8,6])\n",
        "\n",
        "key1 = [1,0,1,0,0,1,0,0]#164\n",
        "key2 = [0,1,0,0,0,0,1,1]#67\n",
        "plain = [1,0,1,0,1,0,1,0]\n",
        "\n",
        "cipher = en_de(plain,key1,key2,encrypt=True)\n",
        "text = en_de(cipher,key1,key2,encrypt=False)\n",
        "print(cipher,text)"
      ],
      "metadata": {
        "colab": {
          "base_uri": "https://localhost:8080/"
        },
        "id": "ICG5ksURZWz6",
        "outputId": "b5b7635c-eebd-4901-9f46-bfe39c7a81b0"
      },
      "execution_count": null,
      "outputs": [
        {
          "output_type": "stream",
          "name": "stdout",
          "text": [
            "[1, 0, 1, 1, 1, 0, 0, 0] [1, 0, 1, 0, 1, 0, 1, 0]\n"
          ]
        }
      ]
    },
    {
      "cell_type": "markdown",
      "source": [
        "**ASSYMMETRIC RSA**"
      ],
      "metadata": {
        "id": "taBxihmH1SZ0"
      }
    },
    {
      "cell_type": "code",
      "source": [
        "# RSA Asymmetric Encryption & Decryption (Simple Example)\n",
        "\n",
        "# Function to find gcd\n",
        "def gcd(a, b):\n",
        "    while b != 0:\n",
        "        a, b = b, a % b\n",
        "    return a\n",
        "\n",
        "# Function to find multiplicative inverse of e mod phi\n",
        "def mod_inverse(e, phi):\n",
        "    for d in range(1, phi):\n",
        "        if (d * e) % phi == 1:\n",
        "            return d\n",
        "    return None\n",
        "\n",
        "# Key generation (very small primes for simplicity)\n",
        "p = 3\n",
        "q = 11\n",
        "n = p * q            # n = 33\n",
        "phi = (p - 1) * (q - 1)  # phi = 20\n",
        "e = 3                # Choose e such that gcd(e, phi) = 1\n",
        "\n",
        "# Generate private key d\n",
        "d = mod_inverse(e, phi)\n",
        "\n",
        "# Public key: (e, n)\n",
        "# Private key: (d, n)\n",
        "\n",
        "# Encrypt function\n",
        "def encrypt(msg):\n",
        "    cipher = [pow(ord(char), e, n) for char in msg]  # c = (m^e) % n\n",
        "    return cipher\n",
        "\n",
        "\n",
        "# Decrypt function\n",
        "def decrypt(cipher):\n",
        "    plain = [chr(pow(char, d, n)) for char in cipher]  # m = (c^d) % n\n",
        "    return ''.join(plain)\n",
        "\n",
        "# Example usage\n",
        "message = \"HI\"\n",
        "ciphertext = encrypt(message)\n",
        "decrypted = decrypt(ciphertext)\n",
        "\n",
        "print(\"Original:\", message)\n",
        "print(\"Encrypted:\", ciphertext)\n",
        "print(\"Decrypted:\", decrypted)\n"
      ],
      "metadata": {
        "colab": {
          "base_uri": "https://localhost:8080/"
        },
        "id": "uiwWi2v1SQkK",
        "outputId": "a6c6cd6a-2c31-4bbb-8e53-6b0daa5e85cd"
      },
      "execution_count": null,
      "outputs": [
        {
          "output_type": "stream",
          "name": "stdout",
          "text": [
            "Original: HI\n",
            "Encrypted: [18, 13]\n",
            "Decrypted: \u0006\u0007\n"
          ]
        }
      ]
    },
    {
      "cell_type": "markdown",
      "source": [
        "**DIDIGTAL SIGNATURE**"
      ],
      "metadata": {
        "id": "02BrfaRY1Wj9"
      }
    },
    {
      "cell_type": "code",
      "source": [
        "# Simple Digital Signature implementation with Valid & Invalid examples\n",
        "\n",
        "# Simple hash function (sum of ASCII values mod n)\n",
        "def hash_function(msg):\n",
        "    return sum(ord(c) for c in msg) % 33\n",
        "# RSA key generation\n",
        "p = 3\n",
        "q = 11\n",
        "n = p * q           # n = 33\n",
        "phi = (p - 1)*(q - 1)\n",
        "e = 3\n",
        "# Private key d such that (e * d) % phi == 1\n",
        "def mod_inverse(e, phi):\n",
        "    for d in range(1, phi):\n",
        "        if (e * d) % phi == 1:\n",
        "            return d\n",
        "d = mod_inverse(e, phi)\n",
        "\n",
        "\n",
        "# Sign the message (generate digital signature)\n",
        "def sign_message(msg):\n",
        "    h = hash_function(msg)\n",
        "    signature = pow(h, d, n)  # Encrypt hash using private key\n",
        "    return signature\n",
        "\n",
        "# Verify the signature using public key\n",
        "def verify_signature(msg, signature):\n",
        "    h = hash_function(msg)\n",
        "    verified = pow(signature, e, n)  # Decrypt signature with public key\n",
        "    return h == verified\n",
        "\n",
        "# ----------- EXAMPLE USAGE -------------\n",
        "\n",
        "# Valid Case\n",
        "message_valid = \"Hi\"\n",
        "signature_valid = sign_message(message_valid)\n",
        "print(\"Original Message:\", message_valid)\n",
        "print(\"Valid Signature:\", signature_valid)\n",
        "print(\"Is signature valid?\", verify_signature(message_valid, signature_valid))  # ✅ Should return True\n",
        "\n",
        "print(\"\\n---\\n\")\n",
        "\n",
        "# Invalid Case (message altered)\n",
        "message_tampered = \"Ho\"\n",
        "print(\"Tampered Message:\", message_tampered)\n",
        "print(\"Using Original Signature:\", signature_valid)\n",
        "print(\"Is signature valid?\", verify_signature(message_tampered, signature_valid))  # ❌ Should return False\n"
      ],
      "metadata": {
        "colab": {
          "base_uri": "https://localhost:8080/"
        },
        "id": "mYyP56Coz1b0",
        "outputId": "1ed82d16-3268-426f-d777-e66d12881b71"
      },
      "execution_count": null,
      "outputs": [
        {
          "output_type": "stream",
          "name": "stdout",
          "text": [
            "Original Message: Hi\n",
            "Valid Signature: 12\n",
            "Is signature valid? True\n",
            "\n",
            "---\n",
            "\n",
            "Tampered Message: Ho\n",
            "Using Original Signature: 12\n",
            "Is signature valid? False\n"
          ]
        }
      ]
    },
    {
      "cell_type": "code",
      "source": [
        "import hashlib\n",
        "m=input(\"message:\")\n",
        "private=int(input(\"Private Key:\"))\n",
        "public_key=int(input(\"Public Key:\"))\n",
        "h=int(hashlib.sha256(m.encode()).hexdigest(),16)%101\n",
        "s=pow(h,private,101)\n",
        "if pow(s,public_key,101)==h:\n",
        "  print(\"Valid\")\n",
        "  # for valid output use 3 and 67\n",
        "else:\n",
        "  print(\"Invalid\")"
      ],
      "metadata": {
        "colab": {
          "base_uri": "https://localhost:8080/"
        },
        "id": "Lt1AymMJly3D",
        "outputId": "2133d924-64f3-4042-cbce-9816c2ec0a25"
      },
      "execution_count": null,
      "outputs": [
        {
          "output_type": "stream",
          "name": "stdout",
          "text": [
            "Generated Signature: 203a0011834074912498fb7b9b0787bf2b06dd8f8a1ea862bd44c38a638dd796\n",
            "Is the signature valid? True\n"
          ]
        }
      ]
    },
    {
      "cell_type": "markdown",
      "source": [
        "**intrusive detection system**"
      ],
      "metadata": {
        "id": "2Yi2bMVF4jyO"
      }
    },
    {
      "cell_type": "code",
      "source": [
        "def detect_intrusion(log):\n",
        "    malicious_ips = [\"192.168.1.100\", \"10.0.0.5\", \"172.16.0.50\", \"203.0.113.10\", \"198.51.100.25\", \"8.8.8.8\", \"123.45.67.89\"]\n",
        "    for ip in malicious_ips:\n",
        "        if ip in log:\n",
        "            print(\"🚨 Intrusion detected:\", ip)\n",
        "            break\n",
        "        else:\n",
        "            print(\"✅ No intrusion detected.\")\n",
        "            break\n",
        "\n",
        "\n",
        "log = input(\"Enter a log entry (or 'exit' to quit): \")\n",
        "detect_intrusion(log)\n"
      ],
      "metadata": {
        "id": "VvZYTq-p1Z8L"
      },
      "execution_count": null,
      "outputs": []
    },
    {
      "cell_type": "markdown",
      "source": [
        "**Railway fence**\n"
      ],
      "metadata": {
        "id": "m01OaAon712O"
      }
    },
    {
      "cell_type": "code",
      "source": [
        "# Simple Rail Fence Cipher with 2 rails\n",
        "\n",
        "# Encrypt function\n",
        "def encrypt(text):\n",
        "    rail1 = text[0::2]  # Take characters at even positions\n",
        "    rail2 = text[1::2]  # Take characters at odd positions\n",
        "    return rail1 + rail2  # Combine rails\n",
        "\n",
        "# Decrypt function\n",
        "def decrypt(cipher):\n",
        "    half = len(cipher) // 2 + len(cipher) % 2  # Split point\n",
        "    rail1 = cipher[:half]\n",
        "    rail2 = cipher[half:]\n",
        "    plain = \"\"\n",
        "\n",
        "    # Interleave characters from both rails\n",
        "    for i in range(half):\n",
        "        plain += rail1[i]\n",
        "        if i < len(rail2):\n",
        "            plain += rail2[i]\n",
        "    return plain\n",
        "\n",
        "# Example\n",
        "message = \"HELLO WORLD\"  # Remove spaces for simplicity\n",
        "\n",
        "encrypted = encrypt(message)\n",
        "decrypted = decrypt(encrypted)\n",
        "\n",
        "print(\"Encrypted:\", encrypted)\n",
        "print(\"Decrypted:\", decrypted)\n"
      ],
      "metadata": {
        "colab": {
          "base_uri": "https://localhost:8080/"
        },
        "id": "RoghGrDY76xY",
        "outputId": "45eae54e-68d3-4b74-fd3f-9c0bcdee3716"
      },
      "execution_count": null,
      "outputs": [
        {
          "output_type": "stream",
          "name": "stdout",
          "text": [
            "Encrypted: HLOWRDEL OL\n",
            "Decrypted: HELLO WORLD\n"
          ]
        }
      ]
    },
    {
      "cell_type": "code",
      "source": [
        "def e(text,rails):\n",
        "    fence=['']*rails\n",
        "    rail,step=0,1\n",
        "    for char in text:\n",
        "        fence[rail]+=char\n",
        "        rail+=step\n",
        "        if rail==0 or rail== rails-1:\n",
        "            step *= -1\n",
        "    return ''.join(fence)\n",
        "\n",
        "def d(cipher,rails):\n",
        "    pattern=['']*len(cipher)\n",
        "    rail,step=0,1\n",
        "    for i in range(len(cipher)):\n",
        "        pattern[i]=rail\n",
        "        rail+=step\n",
        "        if rail==0 or rail== rails-1:\n",
        "            step*= -1\n",
        "    pos= sorted(range(len(cipher)),key=lambda i:pattern[i])\n",
        "    res=['']*len(cipher)\n",
        "    for i,p in enumerate(pos):\n",
        "        res[p] = cipher[i]\n",
        "    return ''.join(res)\n",
        "\n",
        "text=input(\"Enter the Text :\")\n",
        "rails=int(input(\"Enter the rails :\"))\n",
        "cipher=e(text,rails)\n",
        "print(\"Encrypted :\",cipher)\n",
        "print(\"Decrypted :\",d(cipher,rails))"
      ],
      "metadata": {
        "colab": {
          "base_uri": "https://localhost:8080/"
        },
        "id": "LJWkc7FbDTWg",
        "outputId": "f81c6199-94f5-4cf0-cac5-e56c3680d8be"
      },
      "execution_count": null,
      "outputs": [
        {
          "output_type": "stream",
          "name": "stdout",
          "text": [
            "Enter the Text :HELLOWORLD\n",
            "Enter the rails :3\n",
            "Encrypted : HOLELWRDLO\n",
            "Decrypted : HELLOWORLD\n"
          ]
        }
      ]
    },
    {
      "cell_type": "markdown",
      "source": [
        "**Encrypt a message using a substitution cipher, then sign the result using the Digital Signature Standard to ensure authenticity.**"
      ],
      "metadata": {
        "id": "LHaggj1J8LIE"
      }
    },
    {
      "cell_type": "code",
      "source": [
        "import hashlib\n",
        "import random\n",
        "\n",
        "# === Step 1: Substitution Cipher Encryption ===\n",
        "def substitution_encrypt(text, key_map):\n",
        "    return ''.join([key_map.get(char.upper(), char) for char in text])\n",
        "\n",
        "# === Step 2: Digital Signature (Simple Simulation) ===\n",
        "def generate_signature(message, private_key):\n",
        "    # Hash the message\n",
        "    hashed = hashlib.sha256(message.encode()).hexdigest()\n",
        "    # Simulate signing by mixing hash with private key\n",
        "    signature = ''.join(chr((ord(c) + private_key) % 256) for c in hashed)\n",
        "    return signature\n",
        "\n",
        "def verify_signature(message, signature, public_key):\n",
        "    # Recompute hash\n",
        "    hashed = hashlib.sha256(message.encode()).hexdigest()\n",
        "    # Recover original hash from signature\n",
        "    recovered = ''.join(chr((ord(c) - public_key) % 256) for c in signature)\n",
        "    return hashed == recovered\n",
        "\n",
        "# === Sample Usage ===\n",
        "\n",
        "# Original message\n",
        "message = \"HELLO WORLD\"\n",
        "\n",
        "# Substitution key (simple letter map)\n",
        "alphabet = \"ABCDEFGHIJKLMNOPQRSTUVWXYZ\"\n",
        "shuffled = list(alphabet)\n",
        "random.seed(1)  # For repeatability\n",
        "random.shuffle(shuffled)\n",
        "key_map = dict(zip(alphabet, shuffled))  # e.g., A->Q, B->W, etc.\n",
        "\n",
        "# Encrypt the message\n",
        "encrypted_msg = substitution_encrypt(message, key_map)\n",
        "print(\"Encrypted Message:\", encrypted_msg)\n",
        "\n",
        "# Simulate private/public key\n",
        "private_key = 7\n",
        "public_key = 7  # In real DSS, public != private\n",
        "\n",
        "# Generate digital signature\n",
        "signature = generate_signature(encrypted_msg, private_key)\n",
        "print(\"Digital Signature:\", signature)\n",
        "\n",
        "# Verify digital signature\n",
        "valid = verify_signature(encrypted_msg, signature, public_key)\n",
        "print(\"Signature Valid:\", valid)\n"
      ],
      "metadata": {
        "id": "eoPWkMWr77Dp"
      },
      "execution_count": null,
      "outputs": []
    },
    {
      "cell_type": "markdown",
      "source": [
        "**Use Rail Fence cipher with 3 rails to scramble a message, then encrypt it using RSA to securely transmit through an insecure network.**"
      ],
      "metadata": {
        "id": "nbwLLWeM8L_c"
      }
    },
    {
      "cell_type": "code",
      "source": [
        "# === Step 1: Rail Fence Cipher (3 rails) ===\n",
        "def rail_fence_encrypt(text, rails=3):\n",
        "    fence = [''] * rails\n",
        "    rail = 0\n",
        "    direction = 1\n",
        "\n",
        "    for char in text:\n",
        "        fence[rail] += char\n",
        "        rail += direction\n",
        "        if rail == 0 or rail == rails - 1:\n",
        "            direction *= -1\n",
        "\n",
        "    return ''.join(fence)\n",
        "\n",
        "# === Step 2: RSA Encryption ===\n",
        "def gcd(a, b):\n",
        "    while b:\n",
        "        a, b = b, a % b\n",
        "    return a\n",
        "\n",
        "def modinv(a, m):\n",
        "    # Extended Euclidean Algorithm for modular inverse\n",
        "    m0, x0, x1 = m, 0, 1\n",
        "    while a > 1:\n",
        "        q = a // m\n",
        "        a, m = m, a % m\n",
        "        x0, x1 = x1 - q * x0, x0\n",
        "    return x1 % m0\n",
        "\n",
        "def generate_rsa_keys():\n",
        "    p, q = 17, 23  # Small primes\n",
        "    n = p * q\n",
        "    phi = (p - 1) * (q - 1)\n",
        "    e = 3\n",
        "    while gcd(e, phi) != 1:\n",
        "        e += 2\n",
        "    d = modinv(e, phi)\n",
        "    return (e, n), (d, n)  # public, private\n",
        "\n",
        "def rsa_encrypt(text, public_key):\n",
        "    e, n = public_key\n",
        "    return [pow(ord(char), e, n) for char in text]\n",
        "\n",
        "def rsa_decrypt(cipher, private_key):\n",
        "    d, n = private_key\n",
        "    return ''.join([chr(pow(char, d, n)) for char in cipher])\n",
        "\n",
        "# === Example Usage ===\n",
        "\n",
        "message = \"SECUREMESSAGE\"\n",
        "scrambled = rail_fence_encrypt(message, rails=3)\n",
        "print(\"Scrambled (Rail Fence):\", scrambled)\n",
        "\n",
        "public_key, private_key = generate_rsa_keys()\n",
        "encrypted = rsa_encrypt(scrambled, public_key)\n",
        "print(\"Encrypted with RSA:\", encrypted)\n",
        "\n",
        "decrypted_scrambled = rsa_decrypt(encrypted, private_key)\n",
        "print(\"Decrypted (still scrambled):\", decrypted_scrambled)\n"
      ],
      "metadata": {
        "id": "w2Ld0vY48Y61"
      },
      "execution_count": null,
      "outputs": []
    },
    {
      "cell_type": "markdown",
      "source": [
        "**Apply Caesar Cipher to a string, then encrypt the result using Simplified DES and verify the output through decryption**"
      ],
      "metadata": {
        "id": "kYeBJHmT8cFf"
      }
    },
    {
      "cell_type": "code",
      "source": [
        "# === Step 1: Caesar Cipher ===\n",
        "def caesar_encrypt(text, shift):\n",
        "    result = \"\"\n",
        "    for char in text:\n",
        "        if char.isalpha():\n",
        "            base = ord('A') if char.isupper() else ord('a')\n",
        "            result += chr((ord(char) - base + shift) % 26 + base)\n",
        "        else:\n",
        "            result += char\n",
        "    return result\n",
        "\n",
        "def caesar_decrypt(text, shift):\n",
        "    return caesar_encrypt(text, -shift)\n",
        "\n",
        "# === Step 2: Simplified DES (S-DES) ===\n",
        "# This is a very minimal and non-secure version just for learning.\n",
        "\n",
        "# Permutation functions\n",
        "def permute(bits, pattern):\n",
        "    return ''.join(bits[i] for i in pattern)\n",
        "\n",
        "# XOR operation\n",
        "def xor(a, b):\n",
        "    return ''.join('0' if i == j else '1' for i, j in zip(a, b))\n",
        "\n",
        "# S-boxes for substitution\n",
        "SBOX = {\n",
        "    '00': '10',\n",
        "    '01': '00',\n",
        "    '10': '11',\n",
        "    '11': '01'\n",
        "}\n",
        "\n",
        "# Simple Feistel function\n",
        "def feistel(right, subkey):\n",
        "    xored = xor(right, subkey)\n",
        "    return ''.join(SBOX[xored[i:i+2]] for i in range(0, len(xored), 2))\n",
        "\n",
        "# S-DES encryption (very basic 8-bit input and key)\n",
        "def sdes_encrypt(plain_bin, key):\n",
        "    left, right = plain_bin[:4], plain_bin[4:]\n",
        "    for _ in range(2):  # 2 rounds\n",
        "        f_out = feistel(right, key)\n",
        "        left, right = right, xor(left, f_out)\n",
        "    return left + right\n",
        "\n",
        "def sdes_decrypt(cipher_bin, key):\n",
        "    left, right = cipher_bin[:4], cipher_bin[4:]\n",
        "    for _ in range(2):  # 2 rounds (reverse order)\n",
        "        f_out = feistel(left, key)\n",
        "        right, left = left, xor(right, f_out)\n",
        "    return right + left\n",
        "\n",
        "# Convert text to 8-bit binary string\n",
        "def text_to_bin(text):\n",
        "    return ''.join(format(ord(c), '08b') for c in text)\n",
        "\n",
        "def bin_to_text(b):\n",
        "    return ''.join(chr(int(b[i:i+8], 2)) for i in range(0, len(b), 8))\n",
        "\n",
        "# === Example Usage ===\n",
        "\n",
        "message = \"HI\"\n",
        "caesar_shift = 3\n",
        "key = \"10100110\"  # 8-bit key\n",
        "\n",
        "# Step 1: Caesar Cipher\n",
        "caesar_encrypted = caesar_encrypt(message, caesar_shift)\n",
        "print(\"After Caesar Cipher:\", caesar_encrypted)\n",
        "\n",
        "# Step 2: S-DES\n",
        "bin_text = text_to_bin(caesar_encrypted)\n",
        "sdes_encrypted = sdes_encrypt(bin_text, key)\n",
        "print(\"After S-DES Encryption (Binary):\", sdes_encrypted)\n",
        "\n",
        "# Step 3: Decrypt S-DES\n",
        "sdes_decrypted_bin = sdes_decrypt(sdes_encrypted, key)\n",
        "decrypted_caesar = bin_to_text(sdes_decrypted_bin)\n",
        "print(\"After S-DES Decryption:\", decrypted_caesar)\n",
        "\n",
        "# Step 4: Reverse Caesar\n",
        "original = caesar_decrypt(decrypted_caesar, caesar_shift)\n",
        "print(\"Final Decrypted Message:\", original)\n"
      ],
      "metadata": {
        "id": "54tJ4XSt8kEC"
      },
      "execution_count": null,
      "outputs": []
    },
    {
      "cell_type": "markdown",
      "source": [
        "**Sign a plain message using DSS, then encrypt the signed message using RSA to provide both authenticity and confidentiality.**"
      ],
      "metadata": {
        "id": "blNGKtl58lck"
      }
    },
    {
      "cell_type": "code",
      "source": [
        "import hashlib\n",
        "\n",
        "# ===== Simplified Digital Signature using DSS Concept =====\n",
        "\n",
        "# Key generation (very simplified)\n",
        "def generate_dss_keys():\n",
        "    private_key = 17  # secret\n",
        "    public_key = 97   # public (for simplicity, just a constant prime here)\n",
        "    return private_key, public_key\n",
        "\n",
        "# Generate signature using hash and private key\n",
        "def sign_message(message, private_key):\n",
        "    hashed = int(hashlib.sha1(message.encode()).hexdigest(), 16)\n",
        "    signature = hashed % private_key  # simplified: sign = hash mod private_key\n",
        "    return signature\n",
        "\n",
        "# Verify signature\n",
        "def verify_signature(message, signature, public_key):\n",
        "    hashed = int(hashlib.sha1(message.encode()).hexdigest(), 16)\n",
        "    return (hashed % public_key) == signature\n",
        "\n",
        "# ===== Simplified RSA Encryption =====\n",
        "\n",
        "# Generate RSA keys (simple version)\n",
        "def generate_rsa_keys():\n",
        "    p, q = 3, 11  # small primes\n",
        "    n = p * q\n",
        "    phi = (p - 1) * (q - 1)\n",
        "    e = 7  # encryption exponent\n",
        "    d = 3  # decryption exponent (manually set to match e for simplicity)\n",
        "    return (e, n), (d, n)\n",
        "\n",
        "# Encrypt message with RSA public key\n",
        "def rsa_encrypt(text, pub_key):\n",
        "    e, n = pub_key\n",
        "    return [pow(ord(c), e, n) for c in text]\n",
        "\n",
        "# Decrypt message with RSA private key\n",
        "def rsa_decrypt(cipher, priv_key):\n",
        "    d, n = priv_key\n",
        "    return ''.join([chr(pow(c, d, n)) for c in cipher])\n",
        "\n",
        "# ===== Main Process =====\n",
        "\n",
        "# Step 1: Generate keys\n",
        "dss_priv, dss_pub = generate_dss_keys()\n",
        "rsa_pub, rsa_priv = generate_rsa_keys()\n",
        "\n",
        "# Step 2: Sign the message\n",
        "plain_text = \"HELLO\"\n",
        "signature = sign_message(plain_text, dss_priv)\n",
        "signed_message = f\"{plain_text}|{signature}\"\n",
        "\n",
        "# Step 3: Encrypt the signed message using RSA\n",
        "encrypted = rsa_encrypt(signed_message, rsa_pub)\n",
        "\n",
        "# Step 4: Decrypt the message\n",
        "decrypted_message = rsa_decrypt(encrypted, rsa_priv)\n",
        "received_msg, received_sig = decrypted_message.split('|')\n",
        "\n",
        "# Step 5: Verify the signature\n",
        "is_valid = verify_signature(received_msg, int(received_sig), dss_pub)\n",
        "\n",
        "# Output\n",
        "print(\"Original Message:\", plain_text)\n",
        "print(\"Signed Message:\", signed_message)\n",
        "print(\"Encrypted (RSA):\", encrypted)\n",
        "print(\"Decrypted:\", decrypted_message)\n",
        "print(\"Signature Valid?\", is_valid)\n"
      ],
      "metadata": {
        "id": "9h_0ZBmj81Jm"
      },
      "execution_count": null,
      "outputs": []
    }
  ]
}